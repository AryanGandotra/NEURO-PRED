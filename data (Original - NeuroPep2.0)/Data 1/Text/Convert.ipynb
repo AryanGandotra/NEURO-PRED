{
 "cells": [
  {
   "cell_type": "markdown",
   "metadata": {},
   "source": [
    "# Train File"
   ]
  },
  {
   "cell_type": "code",
   "execution_count": 2,
   "metadata": {},
   "outputs": [
    {
     "name": "stdout",
     "output_type": "stream",
     "text": [
      "Data updated successfully!\n"
     ]
    }
   ],
   "source": [
    "# Open the file in read mode\n",
    "with open(\"train-40.txt\", \"r\") as file:\n",
    "    lines = file.readlines()\n",
    "\n",
    "# Initialize a counter\n",
    "counter = 1\n",
    "\n",
    "# Create an empty list to store the modified lines\n",
    "modified_lines = []\n",
    "\n",
    "# Loop through the lines\n",
    "for line in lines:\n",
    "    if line.startswith(\">\"):\n",
    "        # Split the line at '|' and replace the second part with the counter\n",
    "        parts = line.split('|')\n",
    "        parts[1] = f\"{counter}\\n\"  # Replace the second part with the counter and add a newline\n",
    "        counter += 1\n",
    "        # Join the parts back together and append to the modified lines\n",
    "        modified_line = '|'.join(parts)\n",
    "        modified_lines.append(modified_line)\n",
    "    else:\n",
    "        # Append non-header lines as they are\n",
    "        modified_lines.append(line)\n",
    "\n",
    "# Write the modified lines back to a new file\n",
    "with open(\"train-40_new.txt\", \"w\") as file:\n",
    "    file.writelines(modified_lines)\n",
    "\n",
    "print(\"Data updated successfully!\")\n"
   ]
  },
  {
   "cell_type": "markdown",
   "metadata": {},
   "source": [
    "# Test File"
   ]
  },
  {
   "cell_type": "code",
   "execution_count": 3,
   "metadata": {},
   "outputs": [
    {
     "name": "stdout",
     "output_type": "stream",
     "text": [
      "Data updated successfully!\n"
     ]
    }
   ],
   "source": [
    "# Open the file in read mode\n",
    "with open(\"test.txt\", \"r\") as file:\n",
    "    lines = file.readlines()\n",
    "\n",
    "# Initialize a counter\n",
    "counter = 1\n",
    "\n",
    "# Create an empty list to store the modified lines\n",
    "modified_lines = []\n",
    "\n",
    "# Loop through the lines\n",
    "for line in lines:\n",
    "    if line.startswith(\">\"):\n",
    "        # Split the line at '|' and replace the second part with the counter\n",
    "        parts = line.split('|')\n",
    "        parts[1] = f\"{counter}\\n\"  # Replace the second part with the counter and add a newline\n",
    "        counter += 1\n",
    "        # Join the parts back together and append to the modified lines\n",
    "        modified_line = '|'.join(parts)\n",
    "        modified_lines.append(modified_line)\n",
    "    else:\n",
    "        # Append non-header lines as they are\n",
    "        modified_lines.append(line)\n",
    "\n",
    "# Write the modified lines back to a new file\n",
    "with open(\"test_new.txt\", \"w\") as file:\n",
    "    file.writelines(modified_lines)\n",
    "\n",
    "print(\"Data updated successfully!\")\n"
   ]
  }
 ],
 "metadata": {
  "kernelspec": {
   "display_name": "Python 3",
   "language": "python",
   "name": "python3"
  },
  "language_info": {
   "codemirror_mode": {
    "name": "ipython",
    "version": 3
   },
   "file_extension": ".py",
   "mimetype": "text/x-python",
   "name": "python",
   "nbconvert_exporter": "python",
   "pygments_lexer": "ipython3",
   "version": "3.9.19"
  }
 },
 "nbformat": 4,
 "nbformat_minor": 2
}
