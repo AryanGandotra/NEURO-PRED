{
 "cells": [
  {
   "cell_type": "markdown",
   "metadata": {},
   "source": [
    "# Train"
   ]
  },
  {
   "cell_type": "code",
   "execution_count": 4,
   "metadata": {},
   "outputs": [
    {
     "name": "stdout",
     "output_type": "stream",
     "text": [
      "CSV converted to FASTA successfully!\n"
     ]
    }
   ],
   "source": [
    "import csv\n",
    "\n",
    "def csv_to_fasta(csv_file, fasta_file):\n",
    "    with open(csv_file, 'r') as csv_in, open(fasta_file, 'w') as fasta_out:\n",
    "        reader = csv.reader(csv_in)\n",
    "        for row in reader:\n",
    "            sequence, label = row[0], row[1]\n",
    "            fasta_out.write(f\">{sequence}|{label}\\n{sequence}\\n\")\n",
    "\n",
    "# Example usage\n",
    "csv_file = 'Csv/train.csv'\n",
    "fasta_file = 'Fasta/train.fasta'  \n",
    "csv_to_fasta(csv_file, fasta_file)\n",
    "\n",
    "print(\"CSV converted to FASTA successfully!\")"
   ]
  },
  {
   "cell_type": "markdown",
   "metadata": {},
   "source": [
    "# Test"
   ]
  },
  {
   "cell_type": "code",
   "execution_count": 5,
   "metadata": {},
   "outputs": [
    {
     "name": "stdout",
     "output_type": "stream",
     "text": [
      "CSV converted to FASTA successfully!\n"
     ]
    }
   ],
   "source": [
    "import csv\n",
    "\n",
    "def csv_to_fasta(csv_file, fasta_file):\n",
    "    with open(csv_file, 'r') as csv_in, open(fasta_file, 'w') as fasta_out:\n",
    "        reader = csv.reader(csv_in)\n",
    "        for row in reader:\n",
    "            sequence, label = row[0], row[1]\n",
    "            fasta_out.write(f\">{sequence}|{label}\\n{sequence}\\n\")\n",
    "\n",
    "# Example usage\n",
    "csv_file = 'Csv/test.csv'\n",
    "fasta_file = 'Fasta/test.fasta'  \n",
    "csv_to_fasta(csv_file, fasta_file)\n",
    "\n",
    "print(\"CSV converted to FASTA successfully!\")"
   ]
  }
 ],
 "metadata": {
  "kernelspec": {
   "display_name": "Python 3",
   "language": "python",
   "name": "python3"
  },
  "language_info": {
   "codemirror_mode": {
    "name": "ipython",
    "version": 3
   },
   "file_extension": ".py",
   "mimetype": "text/x-python",
   "name": "python",
   "nbconvert_exporter": "python",
   "pygments_lexer": "ipython3",
   "version": "3.9.19"
  }
 },
 "nbformat": 4,
 "nbformat_minor": 2
}
