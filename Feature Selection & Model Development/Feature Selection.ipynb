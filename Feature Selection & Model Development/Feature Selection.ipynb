{
 "cells": [
  {
   "cell_type": "code",
   "execution_count": 111,
   "metadata": {},
   "outputs": [],
   "source": [
    "import pandas as pd\n",
    "import numpy as np\n",
    "import matplotlib.pyplot as plt\n",
    "import seaborn as sns\n",
    "\n",
    "from sklearn.feature_selection import mutual_info_classif, SelectKBest, chi2\n",
    "from sklearn.ensemble import RandomForestClassifier\n",
    "from sklearn.feature_selection import RFE\n",
    "from sklearn.linear_model import Lasso\n",
    "from sklearn.decomposition import PCA\n",
    "from sklearn.preprocessing import StandardScaler\n",
    "\n",
    "\n",
    "from sklearn.linear_model import LogisticRegression\n",
    "from sklearn.tree import DecisionTreeClassifier\n",
    "from sklearn.ensemble import RandomForestClassifier\n",
    "from sklearn.svm import SVC\n",
    "from sklearn.neighbors import KNeighborsClassifier\n",
    "from sklearn.naive_bayes import GaussianNB\n",
    "from xgboost import XGBClassifier\n",
    "from catboost import CatBoostClassifier\n",
    "from sklearn.metrics import accuracy_score,precision_score,recall_score,f1_score,roc_auc_score,confusion_matrix\n",
    "from sklearn.model_selection import train_test_split\n",
    "from sklearn.preprocessing import StandardScaler\n",
    "from sklearn.metrics import classification_report\n",
    "from sklearn.metrics import matthews_corrcoef"
   ]
  },
  {
   "cell_type": "code",
   "execution_count": 2,
   "metadata": {},
   "outputs": [
    {
     "data": {
      "text/html": [
       "<div>\n",
       "<style scoped>\n",
       "    .dataframe tbody tr th:only-of-type {\n",
       "        vertical-align: middle;\n",
       "    }\n",
       "\n",
       "    .dataframe tbody tr th {\n",
       "        vertical-align: top;\n",
       "    }\n",
       "\n",
       "    .dataframe thead th {\n",
       "        text-align: right;\n",
       "    }\n",
       "</style>\n",
       "<table border=\"1\" class=\"dataframe\">\n",
       "  <thead>\n",
       "    <tr style=\"text-align: right;\">\n",
       "      <th></th>\n",
       "      <th>SampleName</th>\n",
       "      <th>label</th>\n",
       "      <th>A</th>\n",
       "      <th>C</th>\n",
       "      <th>D</th>\n",
       "      <th>E</th>\n",
       "      <th>F</th>\n",
       "      <th>G</th>\n",
       "      <th>H</th>\n",
       "      <th>I</th>\n",
       "      <th>...</th>\n",
       "      <th>YM_DPC</th>\n",
       "      <th>YN_DPC</th>\n",
       "      <th>YP_DPC</th>\n",
       "      <th>YQ_DPC</th>\n",
       "      <th>YR_DPC</th>\n",
       "      <th>YS_DPC</th>\n",
       "      <th>YT_DPC</th>\n",
       "      <th>YV_DPC</th>\n",
       "      <th>YW_DPC</th>\n",
       "      <th>YY_DPC</th>\n",
       "    </tr>\n",
       "  </thead>\n",
       "  <tbody>\n",
       "    <tr>\n",
       "      <th>0</th>\n",
       "      <td>IKDNFIRF</td>\n",
       "      <td>1</td>\n",
       "      <td>0.000000</td>\n",
       "      <td>0.000000</td>\n",
       "      <td>0.125</td>\n",
       "      <td>0.000000</td>\n",
       "      <td>0.250000</td>\n",
       "      <td>0.000000</td>\n",
       "      <td>0.000000</td>\n",
       "      <td>0.25</td>\n",
       "      <td>...</td>\n",
       "      <td>0.0</td>\n",
       "      <td>0.0</td>\n",
       "      <td>0.000000</td>\n",
       "      <td>0.0</td>\n",
       "      <td>0.0</td>\n",
       "      <td>0.000000</td>\n",
       "      <td>0.000000</td>\n",
       "      <td>0.0</td>\n",
       "      <td>0.0</td>\n",
       "      <td>0.0</td>\n",
       "    </tr>\n",
       "    <tr>\n",
       "      <th>1</th>\n",
       "      <td>QERRAMGFVGMR</td>\n",
       "      <td>1</td>\n",
       "      <td>0.083333</td>\n",
       "      <td>0.000000</td>\n",
       "      <td>0.000</td>\n",
       "      <td>0.083333</td>\n",
       "      <td>0.083333</td>\n",
       "      <td>0.166667</td>\n",
       "      <td>0.000000</td>\n",
       "      <td>0.00</td>\n",
       "      <td>...</td>\n",
       "      <td>0.0</td>\n",
       "      <td>0.0</td>\n",
       "      <td>0.000000</td>\n",
       "      <td>0.0</td>\n",
       "      <td>0.0</td>\n",
       "      <td>0.000000</td>\n",
       "      <td>0.000000</td>\n",
       "      <td>0.0</td>\n",
       "      <td>0.0</td>\n",
       "      <td>0.0</td>\n",
       "    </tr>\n",
       "    <tr>\n",
       "      <th>2</th>\n",
       "      <td>APVSTGAGGGTVLAKMYPRGSHWAVGHLM</td>\n",
       "      <td>1</td>\n",
       "      <td>0.137931</td>\n",
       "      <td>0.000000</td>\n",
       "      <td>0.000</td>\n",
       "      <td>0.000000</td>\n",
       "      <td>0.000000</td>\n",
       "      <td>0.206897</td>\n",
       "      <td>0.068966</td>\n",
       "      <td>0.00</td>\n",
       "      <td>...</td>\n",
       "      <td>0.0</td>\n",
       "      <td>0.0</td>\n",
       "      <td>0.035714</td>\n",
       "      <td>0.0</td>\n",
       "      <td>0.0</td>\n",
       "      <td>0.000000</td>\n",
       "      <td>0.000000</td>\n",
       "      <td>0.0</td>\n",
       "      <td>0.0</td>\n",
       "      <td>0.0</td>\n",
       "    </tr>\n",
       "    <tr>\n",
       "      <th>3</th>\n",
       "      <td>MRCYFLTGLAKLQS</td>\n",
       "      <td>0</td>\n",
       "      <td>0.071429</td>\n",
       "      <td>0.071429</td>\n",
       "      <td>0.000</td>\n",
       "      <td>0.000000</td>\n",
       "      <td>0.071429</td>\n",
       "      <td>0.071429</td>\n",
       "      <td>0.000000</td>\n",
       "      <td>0.00</td>\n",
       "      <td>...</td>\n",
       "      <td>0.0</td>\n",
       "      <td>0.0</td>\n",
       "      <td>0.000000</td>\n",
       "      <td>0.0</td>\n",
       "      <td>0.0</td>\n",
       "      <td>0.000000</td>\n",
       "      <td>0.000000</td>\n",
       "      <td>0.0</td>\n",
       "      <td>0.0</td>\n",
       "      <td>0.0</td>\n",
       "    </tr>\n",
       "    <tr>\n",
       "      <th>4</th>\n",
       "      <td>SYSMEHFRWGKPVGRKRRPVKVYTSNGVEEESAEVFPGEM</td>\n",
       "      <td>1</td>\n",
       "      <td>0.025000</td>\n",
       "      <td>0.000000</td>\n",
       "      <td>0.000</td>\n",
       "      <td>0.150000</td>\n",
       "      <td>0.050000</td>\n",
       "      <td>0.100000</td>\n",
       "      <td>0.025000</td>\n",
       "      <td>0.00</td>\n",
       "      <td>...</td>\n",
       "      <td>0.0</td>\n",
       "      <td>0.0</td>\n",
       "      <td>0.000000</td>\n",
       "      <td>0.0</td>\n",
       "      <td>0.0</td>\n",
       "      <td>0.025641</td>\n",
       "      <td>0.025641</td>\n",
       "      <td>0.0</td>\n",
       "      <td>0.0</td>\n",
       "      <td>0.0</td>\n",
       "    </tr>\n",
       "  </tbody>\n",
       "</table>\n",
       "<p>5 rows × 1017 columns</p>\n",
       "</div>"
      ],
      "text/plain": [
       "                                 SampleName  label         A         C      D  \\\n",
       "0                                  IKDNFIRF      1  0.000000  0.000000  0.125   \n",
       "1                              QERRAMGFVGMR      1  0.083333  0.000000  0.000   \n",
       "2             APVSTGAGGGTVLAKMYPRGSHWAVGHLM      1  0.137931  0.000000  0.000   \n",
       "3                            MRCYFLTGLAKLQS      0  0.071429  0.071429  0.000   \n",
       "4  SYSMEHFRWGKPVGRKRRPVKVYTSNGVEEESAEVFPGEM      1  0.025000  0.000000  0.000   \n",
       "\n",
       "          E         F         G         H     I  ...  YM_DPC  YN_DPC  \\\n",
       "0  0.000000  0.250000  0.000000  0.000000  0.25  ...     0.0     0.0   \n",
       "1  0.083333  0.083333  0.166667  0.000000  0.00  ...     0.0     0.0   \n",
       "2  0.000000  0.000000  0.206897  0.068966  0.00  ...     0.0     0.0   \n",
       "3  0.000000  0.071429  0.071429  0.000000  0.00  ...     0.0     0.0   \n",
       "4  0.150000  0.050000  0.100000  0.025000  0.00  ...     0.0     0.0   \n",
       "\n",
       "     YP_DPC  YQ_DPC  YR_DPC    YS_DPC    YT_DPC  YV_DPC  YW_DPC  YY_DPC  \n",
       "0  0.000000     0.0     0.0  0.000000  0.000000     0.0     0.0     0.0  \n",
       "1  0.000000     0.0     0.0  0.000000  0.000000     0.0     0.0     0.0  \n",
       "2  0.035714     0.0     0.0  0.000000  0.000000     0.0     0.0     0.0  \n",
       "3  0.000000     0.0     0.0  0.000000  0.000000     0.0     0.0     0.0  \n",
       "4  0.000000     0.0     0.0  0.025641  0.025641     0.0     0.0     0.0  \n",
       "\n",
       "[5 rows x 1017 columns]"
      ]
     },
     "execution_count": 2,
     "metadata": {},
     "output_type": "execute_result"
    }
   ],
   "source": [
    "df = pd.read_csv('../Features/Data 2/Train/combined_data.csv')\n",
    "df.head()"
   ]
  },
  {
   "cell_type": "code",
   "execution_count": 3,
   "metadata": {},
   "outputs": [
    {
     "data": {
      "text/plain": [
       "(13188, 1017)"
      ]
     },
     "execution_count": 3,
     "metadata": {},
     "output_type": "execute_result"
    }
   ],
   "source": [
    "df.shape"
   ]
  },
  {
   "cell_type": "code",
   "execution_count": 4,
   "metadata": {},
   "outputs": [
    {
     "data": {
      "text/plain": [
       "5185"
      ]
     },
     "execution_count": 4,
     "metadata": {},
     "output_type": "execute_result"
    }
   ],
   "source": [
    "# Checking for duplicate rows\n",
    "df.duplicated().sum()"
   ]
  },
  {
   "cell_type": "code",
   "execution_count": 5,
   "metadata": {},
   "outputs": [],
   "source": [
    "# Dropping duplicate rows\n",
    "df.drop_duplicates(inplace=True)"
   ]
  },
  {
   "cell_type": "code",
   "execution_count": 6,
   "metadata": {},
   "outputs": [
    {
     "data": {
      "text/plain": [
       "(8003, 1017)"
      ]
     },
     "execution_count": 6,
     "metadata": {},
     "output_type": "execute_result"
    }
   ],
   "source": [
    "df.shape"
   ]
  },
  {
   "cell_type": "code",
   "execution_count": 7,
   "metadata": {},
   "outputs": [
    {
     "data": {
      "text/plain": [
       "label\n",
       "0    4019\n",
       "1    3984\n",
       "Name: count, dtype: int64"
      ]
     },
     "execution_count": 7,
     "metadata": {},
     "output_type": "execute_result"
    }
   ],
   "source": [
    "df['label'].value_counts()"
   ]
  },
  {
   "cell_type": "code",
   "execution_count": 8,
   "metadata": {},
   "outputs": [
    {
     "data": {
      "image/png": "[encoded data removed]",
      "text/plain": [
       "<Figure size 640x480 with 1 Axes>"
      ]
     },
     "metadata": {},
     "output_type": "display_data"
    }
   ],
   "source": [
    "import matplotlib.pyplot as plt\n",
    "\n",
    "# Plotting the value counts for the 'label' column\n",
    "df['label'].value_counts().plot(kind='bar', color=['skyblue', 'salmon'])\n",
    "\n",
    "# Adding a title and labels\n",
    "plt.title('Classification of Sequences in NeuroPep 2.0 Dataset')\n",
    "plt.xlabel('Class Labels')\n",
    "plt.ylabel('Count')\n",
    "\n",
    "# Setting custom x-axis tick labels with horizontal orientation\n",
    "plt.xticks(ticks=[0, 1], labels=['Non-Neuropeptides (0)', 'Neuropeptides (1)'], rotation=0)\n",
    "\n",
    "# Show the plot\n",
    "plt.show()"
   ]
  },
  {
   "cell_type": "code",
   "execution_count": 9,
   "metadata": {},
   "outputs": [
    {
     "data": {
      "text/plain": [
       "SampleName    0\n",
       "label         0\n",
       "A             0\n",
       "C             0\n",
       "D             0\n",
       "             ..\n",
       "YS_DPC        0\n",
       "YT_DPC        0\n",
       "YV_DPC        0\n",
       "YW_DPC        0\n",
       "YY_DPC        0\n",
       "Length: 1017, dtype: int64"
      ]
     },
     "execution_count": 9,
     "metadata": {},
     "output_type": "execute_result"
    }
   ],
   "source": [
    "# Checking for missing values\n",
    "df.isnull().sum()"
   ]
  },
  {
   "cell_type": "code",
   "execution_count": 10,
   "metadata": {},
   "outputs": [
    {
     "name": "stdout",
     "output_type": "stream",
     "text": [
      "[]\n"
     ]
    }
   ],
   "source": [
    "# print the columns with Nan values\n",
    "nan_cols = [i for i in df.columns if df[i].isnull().any()]\n",
    "print(nan_cols)"
   ]
  },
  {
   "cell_type": "code",
   "execution_count": 11,
   "metadata": {},
   "outputs": [
    {
     "data": {
      "text/html": [
       "<div>\n",
       "<style scoped>\n",
       "    .dataframe tbody tr th:only-of-type {\n",
       "        vertical-align: middle;\n",
       "    }\n",
       "\n",
       "    .dataframe tbody tr th {\n",
       "        vertical-align: top;\n",
       "    }\n",
       "\n",
       "    .dataframe thead th {\n",
       "        text-align: right;\n",
       "    }\n",
       "</style>\n",
       "<table border=\"1\" class=\"dataframe\">\n",
       "  <thead>\n",
       "    <tr style=\"text-align: right;\">\n",
       "      <th></th>\n",
       "      <th>label</th>\n",
       "      <th>A</th>\n",
       "      <th>C</th>\n",
       "      <th>D</th>\n",
       "      <th>E</th>\n",
       "      <th>F</th>\n",
       "      <th>G</th>\n",
       "      <th>H</th>\n",
       "      <th>I</th>\n",
       "      <th>K</th>\n",
       "      <th>...</th>\n",
       "      <th>YM_DPC</th>\n",
       "      <th>YN_DPC</th>\n",
       "      <th>YP_DPC</th>\n",
       "      <th>YQ_DPC</th>\n",
       "      <th>YR_DPC</th>\n",
       "      <th>YS_DPC</th>\n",
       "      <th>YT_DPC</th>\n",
       "      <th>YV_DPC</th>\n",
       "      <th>YW_DPC</th>\n",
       "      <th>YY_DPC</th>\n",
       "    </tr>\n",
       "  </thead>\n",
       "  <tbody>\n",
       "    <tr>\n",
       "      <th>count</th>\n",
       "      <td>8003.000000</td>\n",
       "      <td>8003.000000</td>\n",
       "      <td>8003.000000</td>\n",
       "      <td>8003.000000</td>\n",
       "      <td>8003.000000</td>\n",
       "      <td>8003.000000</td>\n",
       "      <td>8003.000000</td>\n",
       "      <td>8003.000000</td>\n",
       "      <td>8003.000000</td>\n",
       "      <td>8003.000000</td>\n",
       "      <td>...</td>\n",
       "      <td>8003.000000</td>\n",
       "      <td>8003.000000</td>\n",
       "      <td>8003.000000</td>\n",
       "      <td>8003.000000</td>\n",
       "      <td>8003.000000</td>\n",
       "      <td>8003.000000</td>\n",
       "      <td>8003.000000</td>\n",
       "      <td>8003.000000</td>\n",
       "      <td>8003.000000</td>\n",
       "      <td>8003.000000</td>\n",
       "    </tr>\n",
       "    <tr>\n",
       "      <th>mean</th>\n",
       "      <td>0.497813</td>\n",
       "      <td>0.064818</td>\n",
       "      <td>0.025003</td>\n",
       "      <td>0.044479</td>\n",
       "      <td>0.046122</td>\n",
       "      <td>0.061330</td>\n",
       "      <td>0.079256</td>\n",
       "      <td>0.022497</td>\n",
       "      <td>0.044674</td>\n",
       "      <td>0.048706</td>\n",
       "      <td>...</td>\n",
       "      <td>0.000631</td>\n",
       "      <td>0.001513</td>\n",
       "      <td>0.001827</td>\n",
       "      <td>0.001086</td>\n",
       "      <td>0.001501</td>\n",
       "      <td>0.003480</td>\n",
       "      <td>0.001256</td>\n",
       "      <td>0.001515</td>\n",
       "      <td>0.000450</td>\n",
       "      <td>0.001107</td>\n",
       "    </tr>\n",
       "    <tr>\n",
       "      <th>std</th>\n",
       "      <td>0.500026</td>\n",
       "      <td>0.068911</td>\n",
       "      <td>0.051578</td>\n",
       "      <td>0.056373</td>\n",
       "      <td>0.061856</td>\n",
       "      <td>0.068261</td>\n",
       "      <td>0.081311</td>\n",
       "      <td>0.040355</td>\n",
       "      <td>0.056081</td>\n",
       "      <td>0.061798</td>\n",
       "      <td>...</td>\n",
       "      <td>0.007458</td>\n",
       "      <td>0.010818</td>\n",
       "      <td>0.012032</td>\n",
       "      <td>0.008145</td>\n",
       "      <td>0.009970</td>\n",
       "      <td>0.017567</td>\n",
       "      <td>0.009220</td>\n",
       "      <td>0.010250</td>\n",
       "      <td>0.005369</td>\n",
       "      <td>0.009267</td>\n",
       "    </tr>\n",
       "    <tr>\n",
       "      <th>min</th>\n",
       "      <td>0.000000</td>\n",
       "      <td>0.000000</td>\n",
       "      <td>0.000000</td>\n",
       "      <td>0.000000</td>\n",
       "      <td>0.000000</td>\n",
       "      <td>0.000000</td>\n",
       "      <td>0.000000</td>\n",
       "      <td>0.000000</td>\n",
       "      <td>0.000000</td>\n",
       "      <td>0.000000</td>\n",
       "      <td>...</td>\n",
       "      <td>0.000000</td>\n",
       "      <td>0.000000</td>\n",
       "      <td>0.000000</td>\n",
       "      <td>0.000000</td>\n",
       "      <td>0.000000</td>\n",
       "      <td>0.000000</td>\n",
       "      <td>0.000000</td>\n",
       "      <td>0.000000</td>\n",
       "      <td>0.000000</td>\n",
       "      <td>0.000000</td>\n",
       "    </tr>\n",
       "    <tr>\n",
       "      <th>25%</th>\n",
       "      <td>0.000000</td>\n",
       "      <td>0.000000</td>\n",
       "      <td>0.000000</td>\n",
       "      <td>0.000000</td>\n",
       "      <td>0.000000</td>\n",
       "      <td>0.000000</td>\n",
       "      <td>0.000000</td>\n",
       "      <td>0.000000</td>\n",
       "      <td>0.000000</td>\n",
       "      <td>0.000000</td>\n",
       "      <td>...</td>\n",
       "      <td>0.000000</td>\n",
       "      <td>0.000000</td>\n",
       "      <td>0.000000</td>\n",
       "      <td>0.000000</td>\n",
       "      <td>0.000000</td>\n",
       "      <td>0.000000</td>\n",
       "      <td>0.000000</td>\n",
       "      <td>0.000000</td>\n",
       "      <td>0.000000</td>\n",
       "      <td>0.000000</td>\n",
       "    </tr>\n",
       "    <tr>\n",
       "      <th>50%</th>\n",
       "      <td>0.000000</td>\n",
       "      <td>0.055556</td>\n",
       "      <td>0.000000</td>\n",
       "      <td>0.025641</td>\n",
       "      <td>0.020202</td>\n",
       "      <td>0.050000</td>\n",
       "      <td>0.064516</td>\n",
       "      <td>0.000000</td>\n",
       "      <td>0.025641</td>\n",
       "      <td>0.027778</td>\n",
       "      <td>...</td>\n",
       "      <td>0.000000</td>\n",
       "      <td>0.000000</td>\n",
       "      <td>0.000000</td>\n",
       "      <td>0.000000</td>\n",
       "      <td>0.000000</td>\n",
       "      <td>0.000000</td>\n",
       "      <td>0.000000</td>\n",
       "      <td>0.000000</td>\n",
       "      <td>0.000000</td>\n",
       "      <td>0.000000</td>\n",
       "    </tr>\n",
       "    <tr>\n",
       "      <th>75%</th>\n",
       "      <td>1.000000</td>\n",
       "      <td>0.104957</td>\n",
       "      <td>0.022727</td>\n",
       "      <td>0.076923</td>\n",
       "      <td>0.076923</td>\n",
       "      <td>0.100000</td>\n",
       "      <td>0.116279</td>\n",
       "      <td>0.035191</td>\n",
       "      <td>0.076923</td>\n",
       "      <td>0.083333</td>\n",
       "      <td>...</td>\n",
       "      <td>0.000000</td>\n",
       "      <td>0.000000</td>\n",
       "      <td>0.000000</td>\n",
       "      <td>0.000000</td>\n",
       "      <td>0.000000</td>\n",
       "      <td>0.000000</td>\n",
       "      <td>0.000000</td>\n",
       "      <td>0.000000</td>\n",
       "      <td>0.000000</td>\n",
       "      <td>0.000000</td>\n",
       "    </tr>\n",
       "    <tr>\n",
       "      <th>max</th>\n",
       "      <td>1.000000</td>\n",
       "      <td>0.571429</td>\n",
       "      <td>0.400000</td>\n",
       "      <td>0.500000</td>\n",
       "      <td>0.583333</td>\n",
       "      <td>0.750000</td>\n",
       "      <td>0.833333</td>\n",
       "      <td>0.444444</td>\n",
       "      <td>0.375000</td>\n",
       "      <td>0.611111</td>\n",
       "      <td>...</td>\n",
       "      <td>0.200000</td>\n",
       "      <td>0.200000</td>\n",
       "      <td>0.200000</td>\n",
       "      <td>0.142857</td>\n",
       "      <td>0.166667</td>\n",
       "      <td>0.200000</td>\n",
       "      <td>0.222222</td>\n",
       "      <td>0.200000</td>\n",
       "      <td>0.142857</td>\n",
       "      <td>0.222222</td>\n",
       "    </tr>\n",
       "  </tbody>\n",
       "</table>\n",
       "<p>8 rows × 1016 columns</p>\n",
       "</div>"
      ],
      "text/plain": [
       "             label            A            C            D            E  \\\n",
       "count  8003.000000  8003.000000  8003.000000  8003.000000  8003.000000   \n",
       "mean      0.497813     0.064818     0.025003     0.044479     0.046122   \n",
       "std       0.500026     0.068911     0.051578     0.056373     0.061856   \n",
       "min       0.000000     0.000000     0.000000     0.000000     0.000000   \n",
       "25%       0.000000     0.000000     0.000000     0.000000     0.000000   \n",
       "50%       0.000000     0.055556     0.000000     0.025641     0.020202   \n",
       "75%       1.000000     0.104957     0.022727     0.076923     0.076923   \n",
       "max       1.000000     0.571429     0.400000     0.500000     0.583333   \n",
       "\n",
       "                 F            G            H            I            K  ...  \\\n",
       "count  8003.000000  8003.000000  8003.000000  8003.000000  8003.000000  ...   \n",
       "mean      0.061330     0.079256     0.022497     0.044674     0.048706  ...   \n",
       "std       0.068261     0.081311     0.040355     0.056081     0.061798  ...   \n",
       "min       0.000000     0.000000     0.000000     0.000000     0.000000  ...   \n",
       "25%       0.000000     0.000000     0.000000     0.000000     0.000000  ...   \n",
       "50%       0.050000     0.064516     0.000000     0.025641     0.027778  ...   \n",
       "75%       0.100000     0.116279     0.035191     0.076923     0.083333  ...   \n",
       "max       0.750000     0.833333     0.444444     0.375000     0.611111  ...   \n",
       "\n",
       "            YM_DPC       YN_DPC       YP_DPC       YQ_DPC       YR_DPC  \\\n",
       "count  8003.000000  8003.000000  8003.000000  8003.000000  8003.000000   \n",
       "mean      0.000631     0.001513     0.001827     0.001086     0.001501   \n",
       "std       0.007458     0.010818     0.012032     0.008145     0.009970   \n",
       "min       0.000000     0.000000     0.000000     0.000000     0.000000   \n",
       "25%       0.000000     0.000000     0.000000     0.000000     0.000000   \n",
       "50%       0.000000     0.000000     0.000000     0.000000     0.000000   \n",
       "75%       0.000000     0.000000     0.000000     0.000000     0.000000   \n",
       "max       0.200000     0.200000     0.200000     0.142857     0.166667   \n",
       "\n",
       "            YS_DPC       YT_DPC       YV_DPC       YW_DPC       YY_DPC  \n",
       "count  8003.000000  8003.000000  8003.000000  8003.000000  8003.000000  \n",
       "mean      0.003480     0.001256     0.001515     0.000450     0.001107  \n",
       "std       0.017567     0.009220     0.010250     0.005369     0.009267  \n",
       "min       0.000000     0.000000     0.000000     0.000000     0.000000  \n",
       "25%       0.000000     0.000000     0.000000     0.000000     0.000000  \n",
       "50%       0.000000     0.000000     0.000000     0.000000     0.000000  \n",
       "75%       0.000000     0.000000     0.000000     0.000000     0.000000  \n",
       "max       0.200000     0.222222     0.200000     0.142857     0.222222  \n",
       "\n",
       "[8 rows x 1016 columns]"
      ]
     },
     "execution_count": 11,
     "metadata": {},
     "output_type": "execute_result"
    }
   ],
   "source": [
    "# checking column distribution\n",
    "df.describe()"
   ]
  },
  {
   "cell_type": "code",
   "execution_count": 12,
   "metadata": {},
   "outputs": [
    {
     "data": {
      "text/plain": [
       "SampleName     object\n",
       "label           int64\n",
       "A             float64\n",
       "C             float64\n",
       "D             float64\n",
       "               ...   \n",
       "YS_DPC        float64\n",
       "YT_DPC        float64\n",
       "YV_DPC        float64\n",
       "YW_DPC        float64\n",
       "YY_DPC        float64\n",
       "Length: 1017, dtype: object"
      ]
     },
     "execution_count": 12,
     "metadata": {},
     "output_type": "execute_result"
    }
   ],
   "source": [
    "# print the data types\n",
    "df.dtypes"
   ]
  },
  {
   "cell_type": "markdown",
   "metadata": {},
   "source": [
    "# Feature Selection"
   ]
  },
  {
   "cell_type": "code",
   "execution_count": 32,
   "metadata": {},
   "outputs": [
    {
     "data": {
      "text/html": [
       "<div>\n",
       "<style scoped>\n",
       "    .dataframe tbody tr th:only-of-type {\n",
       "        vertical-align: middle;\n",
       "    }\n",
       "\n",
       "    .dataframe tbody tr th {\n",
       "        vertical-align: top;\n",
       "    }\n",
       "\n",
       "    .dataframe thead th {\n",
       "        text-align: right;\n",
       "    }\n",
       "</style>\n",
       "<table border=\"1\" class=\"dataframe\">\n",
       "  <thead>\n",
       "    <tr style=\"text-align: right;\">\n",
       "      <th></th>\n",
       "      <th>label</th>\n",
       "      <th>A</th>\n",
       "      <th>C</th>\n",
       "      <th>D</th>\n",
       "      <th>E</th>\n",
       "      <th>F</th>\n",
       "      <th>G</th>\n",
       "      <th>H</th>\n",
       "      <th>I</th>\n",
       "      <th>K</th>\n",
       "      <th>...</th>\n",
       "      <th>YM_DPC</th>\n",
       "      <th>YN_DPC</th>\n",
       "      <th>YP_DPC</th>\n",
       "      <th>YQ_DPC</th>\n",
       "      <th>YR_DPC</th>\n",
       "      <th>YS_DPC</th>\n",
       "      <th>YT_DPC</th>\n",
       "      <th>YV_DPC</th>\n",
       "      <th>YW_DPC</th>\n",
       "      <th>YY_DPC</th>\n",
       "    </tr>\n",
       "  </thead>\n",
       "  <tbody>\n",
       "    <tr>\n",
       "      <th>0</th>\n",
       "      <td>1</td>\n",
       "      <td>0.000000</td>\n",
       "      <td>0.000000</td>\n",
       "      <td>0.125000</td>\n",
       "      <td>0.000000</td>\n",
       "      <td>0.250000</td>\n",
       "      <td>0.000000</td>\n",
       "      <td>0.000000</td>\n",
       "      <td>0.250000</td>\n",
       "      <td>0.125000</td>\n",
       "      <td>...</td>\n",
       "      <td>0.000000</td>\n",
       "      <td>0.000000</td>\n",
       "      <td>0.000000</td>\n",
       "      <td>0.0</td>\n",
       "      <td>0.0</td>\n",
       "      <td>0.000000</td>\n",
       "      <td>0.000000</td>\n",
       "      <td>0.0</td>\n",
       "      <td>0.0</td>\n",
       "      <td>0.0</td>\n",
       "    </tr>\n",
       "    <tr>\n",
       "      <th>1</th>\n",
       "      <td>1</td>\n",
       "      <td>0.083333</td>\n",
       "      <td>0.000000</td>\n",
       "      <td>0.000000</td>\n",
       "      <td>0.083333</td>\n",
       "      <td>0.083333</td>\n",
       "      <td>0.166667</td>\n",
       "      <td>0.000000</td>\n",
       "      <td>0.000000</td>\n",
       "      <td>0.000000</td>\n",
       "      <td>...</td>\n",
       "      <td>0.000000</td>\n",
       "      <td>0.000000</td>\n",
       "      <td>0.000000</td>\n",
       "      <td>0.0</td>\n",
       "      <td>0.0</td>\n",
       "      <td>0.000000</td>\n",
       "      <td>0.000000</td>\n",
       "      <td>0.0</td>\n",
       "      <td>0.0</td>\n",
       "      <td>0.0</td>\n",
       "    </tr>\n",
       "    <tr>\n",
       "      <th>2</th>\n",
       "      <td>1</td>\n",
       "      <td>0.137931</td>\n",
       "      <td>0.000000</td>\n",
       "      <td>0.000000</td>\n",
       "      <td>0.000000</td>\n",
       "      <td>0.000000</td>\n",
       "      <td>0.206897</td>\n",
       "      <td>0.068966</td>\n",
       "      <td>0.000000</td>\n",
       "      <td>0.034483</td>\n",
       "      <td>...</td>\n",
       "      <td>0.000000</td>\n",
       "      <td>0.000000</td>\n",
       "      <td>0.035714</td>\n",
       "      <td>0.0</td>\n",
       "      <td>0.0</td>\n",
       "      <td>0.000000</td>\n",
       "      <td>0.000000</td>\n",
       "      <td>0.0</td>\n",
       "      <td>0.0</td>\n",
       "      <td>0.0</td>\n",
       "    </tr>\n",
       "    <tr>\n",
       "      <th>3</th>\n",
       "      <td>0</td>\n",
       "      <td>0.071429</td>\n",
       "      <td>0.071429</td>\n",
       "      <td>0.000000</td>\n",
       "      <td>0.000000</td>\n",
       "      <td>0.071429</td>\n",
       "      <td>0.071429</td>\n",
       "      <td>0.000000</td>\n",
       "      <td>0.000000</td>\n",
       "      <td>0.071429</td>\n",
       "      <td>...</td>\n",
       "      <td>0.000000</td>\n",
       "      <td>0.000000</td>\n",
       "      <td>0.000000</td>\n",
       "      <td>0.0</td>\n",
       "      <td>0.0</td>\n",
       "      <td>0.000000</td>\n",
       "      <td>0.000000</td>\n",
       "      <td>0.0</td>\n",
       "      <td>0.0</td>\n",
       "      <td>0.0</td>\n",
       "    </tr>\n",
       "    <tr>\n",
       "      <th>4</th>\n",
       "      <td>1</td>\n",
       "      <td>0.025000</td>\n",
       "      <td>0.000000</td>\n",
       "      <td>0.000000</td>\n",
       "      <td>0.150000</td>\n",
       "      <td>0.050000</td>\n",
       "      <td>0.100000</td>\n",
       "      <td>0.025000</td>\n",
       "      <td>0.000000</td>\n",
       "      <td>0.075000</td>\n",
       "      <td>...</td>\n",
       "      <td>0.000000</td>\n",
       "      <td>0.000000</td>\n",
       "      <td>0.000000</td>\n",
       "      <td>0.0</td>\n",
       "      <td>0.0</td>\n",
       "      <td>0.025641</td>\n",
       "      <td>0.025641</td>\n",
       "      <td>0.0</td>\n",
       "      <td>0.0</td>\n",
       "      <td>0.0</td>\n",
       "    </tr>\n",
       "    <tr>\n",
       "      <th>...</th>\n",
       "      <td>...</td>\n",
       "      <td>...</td>\n",
       "      <td>...</td>\n",
       "      <td>...</td>\n",
       "      <td>...</td>\n",
       "      <td>...</td>\n",
       "      <td>...</td>\n",
       "      <td>...</td>\n",
       "      <td>...</td>\n",
       "      <td>...</td>\n",
       "      <td>...</td>\n",
       "      <td>...</td>\n",
       "      <td>...</td>\n",
       "      <td>...</td>\n",
       "      <td>...</td>\n",
       "      <td>...</td>\n",
       "      <td>...</td>\n",
       "      <td>...</td>\n",
       "      <td>...</td>\n",
       "      <td>...</td>\n",
       "      <td>...</td>\n",
       "    </tr>\n",
       "    <tr>\n",
       "      <th>13183</th>\n",
       "      <td>0</td>\n",
       "      <td>0.157895</td>\n",
       "      <td>0.000000</td>\n",
       "      <td>0.052632</td>\n",
       "      <td>0.052632</td>\n",
       "      <td>0.052632</td>\n",
       "      <td>0.105263</td>\n",
       "      <td>0.052632</td>\n",
       "      <td>0.052632</td>\n",
       "      <td>0.000000</td>\n",
       "      <td>...</td>\n",
       "      <td>0.000000</td>\n",
       "      <td>0.000000</td>\n",
       "      <td>0.000000</td>\n",
       "      <td>0.0</td>\n",
       "      <td>0.0</td>\n",
       "      <td>0.000000</td>\n",
       "      <td>0.000000</td>\n",
       "      <td>0.0</td>\n",
       "      <td>0.0</td>\n",
       "      <td>0.0</td>\n",
       "    </tr>\n",
       "    <tr>\n",
       "      <th>13184</th>\n",
       "      <td>1</td>\n",
       "      <td>0.000000</td>\n",
       "      <td>0.000000</td>\n",
       "      <td>0.000000</td>\n",
       "      <td>0.000000</td>\n",
       "      <td>0.250000</td>\n",
       "      <td>0.375000</td>\n",
       "      <td>0.000000</td>\n",
       "      <td>0.000000</td>\n",
       "      <td>0.000000</td>\n",
       "      <td>...</td>\n",
       "      <td>0.000000</td>\n",
       "      <td>0.000000</td>\n",
       "      <td>0.000000</td>\n",
       "      <td>0.0</td>\n",
       "      <td>0.0</td>\n",
       "      <td>0.000000</td>\n",
       "      <td>0.000000</td>\n",
       "      <td>0.0</td>\n",
       "      <td>0.0</td>\n",
       "      <td>0.0</td>\n",
       "    </tr>\n",
       "    <tr>\n",
       "      <th>13185</th>\n",
       "      <td>1</td>\n",
       "      <td>0.038462</td>\n",
       "      <td>0.153846</td>\n",
       "      <td>0.115385</td>\n",
       "      <td>0.038462</td>\n",
       "      <td>0.000000</td>\n",
       "      <td>0.115385</td>\n",
       "      <td>0.000000</td>\n",
       "      <td>0.038462</td>\n",
       "      <td>0.038462</td>\n",
       "      <td>...</td>\n",
       "      <td>0.000000</td>\n",
       "      <td>0.000000</td>\n",
       "      <td>0.000000</td>\n",
       "      <td>0.0</td>\n",
       "      <td>0.0</td>\n",
       "      <td>0.000000</td>\n",
       "      <td>0.000000</td>\n",
       "      <td>0.0</td>\n",
       "      <td>0.0</td>\n",
       "      <td>0.0</td>\n",
       "    </tr>\n",
       "    <tr>\n",
       "      <th>13186</th>\n",
       "      <td>0</td>\n",
       "      <td>0.000000</td>\n",
       "      <td>0.250000</td>\n",
       "      <td>0.000000</td>\n",
       "      <td>0.000000</td>\n",
       "      <td>0.000000</td>\n",
       "      <td>0.125000</td>\n",
       "      <td>0.250000</td>\n",
       "      <td>0.000000</td>\n",
       "      <td>0.000000</td>\n",
       "      <td>...</td>\n",
       "      <td>0.000000</td>\n",
       "      <td>0.000000</td>\n",
       "      <td>0.000000</td>\n",
       "      <td>0.0</td>\n",
       "      <td>0.0</td>\n",
       "      <td>0.000000</td>\n",
       "      <td>0.000000</td>\n",
       "      <td>0.0</td>\n",
       "      <td>0.0</td>\n",
       "      <td>0.0</td>\n",
       "    </tr>\n",
       "    <tr>\n",
       "      <th>13187</th>\n",
       "      <td>0</td>\n",
       "      <td>0.021739</td>\n",
       "      <td>0.010870</td>\n",
       "      <td>0.086957</td>\n",
       "      <td>0.086957</td>\n",
       "      <td>0.021739</td>\n",
       "      <td>0.032609</td>\n",
       "      <td>0.010870</td>\n",
       "      <td>0.163043</td>\n",
       "      <td>0.130435</td>\n",
       "      <td>...</td>\n",
       "      <td>0.010989</td>\n",
       "      <td>0.010989</td>\n",
       "      <td>0.000000</td>\n",
       "      <td>0.0</td>\n",
       "      <td>0.0</td>\n",
       "      <td>0.000000</td>\n",
       "      <td>0.000000</td>\n",
       "      <td>0.0</td>\n",
       "      <td>0.0</td>\n",
       "      <td>0.0</td>\n",
       "    </tr>\n",
       "  </tbody>\n",
       "</table>\n",
       "<p>8003 rows × 1016 columns</p>\n",
       "</div>"
      ],
      "text/plain": [
       "       label         A         C         D         E         F         G  \\\n",
       "0          1  0.000000  0.000000  0.125000  0.000000  0.250000  0.000000   \n",
       "1          1  0.083333  0.000000  0.000000  0.083333  0.083333  0.166667   \n",
       "2          1  0.137931  0.000000  0.000000  0.000000  0.000000  0.206897   \n",
       "3          0  0.071429  0.071429  0.000000  0.000000  0.071429  0.071429   \n",
       "4          1  0.025000  0.000000  0.000000  0.150000  0.050000  0.100000   \n",
       "...      ...       ...       ...       ...       ...       ...       ...   \n",
       "13183      0  0.157895  0.000000  0.052632  0.052632  0.052632  0.105263   \n",
       "13184      1  0.000000  0.000000  0.000000  0.000000  0.250000  0.375000   \n",
       "13185      1  0.038462  0.153846  0.115385  0.038462  0.000000  0.115385   \n",
       "13186      0  0.000000  0.250000  0.000000  0.000000  0.000000  0.125000   \n",
       "13187      0  0.021739  0.010870  0.086957  0.086957  0.021739  0.032609   \n",
       "\n",
       "              H         I         K  ...    YM_DPC    YN_DPC    YP_DPC  \\\n",
       "0      0.000000  0.250000  0.125000  ...  0.000000  0.000000  0.000000   \n",
       "1      0.000000  0.000000  0.000000  ...  0.000000  0.000000  0.000000   \n",
       "2      0.068966  0.000000  0.034483  ...  0.000000  0.000000  0.035714   \n",
       "3      0.000000  0.000000  0.071429  ...  0.000000  0.000000  0.000000   \n",
       "4      0.025000  0.000000  0.075000  ...  0.000000  0.000000  0.000000   \n",
       "...         ...       ...       ...  ...       ...       ...       ...   \n",
       "13183  0.052632  0.052632  0.000000  ...  0.000000  0.000000  0.000000   \n",
       "13184  0.000000  0.000000  0.000000  ...  0.000000  0.000000  0.000000   \n",
       "13185  0.000000  0.038462  0.038462  ...  0.000000  0.000000  0.000000   \n",
       "13186  0.250000  0.000000  0.000000  ...  0.000000  0.000000  0.000000   \n",
       "13187  0.010870  0.163043  0.130435  ...  0.010989  0.010989  0.000000   \n",
       "\n",
       "       YQ_DPC  YR_DPC    YS_DPC    YT_DPC  YV_DPC  YW_DPC  YY_DPC  \n",
       "0         0.0     0.0  0.000000  0.000000     0.0     0.0     0.0  \n",
       "1         0.0     0.0  0.000000  0.000000     0.0     0.0     0.0  \n",
       "2         0.0     0.0  0.000000  0.000000     0.0     0.0     0.0  \n",
       "3         0.0     0.0  0.000000  0.000000     0.0     0.0     0.0  \n",
       "4         0.0     0.0  0.025641  0.025641     0.0     0.0     0.0  \n",
       "...       ...     ...       ...       ...     ...     ...     ...  \n",
       "13183     0.0     0.0  0.000000  0.000000     0.0     0.0     0.0  \n",
       "13184     0.0     0.0  0.000000  0.000000     0.0     0.0     0.0  \n",
       "13185     0.0     0.0  0.000000  0.000000     0.0     0.0     0.0  \n",
       "13186     0.0     0.0  0.000000  0.000000     0.0     0.0     0.0  \n",
       "13187     0.0     0.0  0.000000  0.000000     0.0     0.0     0.0  \n",
       "\n",
       "[8003 rows x 1016 columns]"
      ]
     },
     "execution_count": 32,
     "metadata": {},
     "output_type": "execute_result"
    }
   ],
   "source": [
    "df_1 = df.copy()\n",
    "\n",
    "# Dropping the 'SampleName' column\n",
    "df_1.drop('SampleName', axis=1, inplace=True)\n",
    "df_1"
   ]
  },
  {
   "cell_type": "code",
   "execution_count": null,
   "metadata": {},
   "outputs": [],
   "source": [
    "# Compute the correlation matrix\n",
    "correlation_matrix = df_1.corr()\n",
    "\n",
    "# Plot the heatmap\n",
    "plt.figure(figsize=(12, 8))\n",
    "sns.heatmap(correlation_matrix, annot=True, cmap='coolwarm', fmt='.2f')\n",
    "plt.title('Correlation Matrix')\n",
    "plt.show()"
   ]
  },
  {
   "cell_type": "code",
   "execution_count": 34,
   "metadata": {},
   "outputs": [],
   "source": [
    "X = df_1.drop(['label'], axis=1)\n",
    "y = df_1['label']"
   ]
  },
  {
   "cell_type": "code",
   "execution_count": 35,
   "metadata": {},
   "outputs": [],
   "source": [
    "# n neighbours 3,4,5 comparison\n",
    "\n",
    "mutual_info = mutual_info_classif(X, y)\n",
    "feature_scores = pd.Series(mutual_info, index=X.columns)\n",
    "feature_scores.sort_values(ascending=False).plot(kind='bar', figsize=(12, 6))\n",
    "plt.title('Feature Importance using Mutual Information')\n",
    "plt.show()"
   ]
  },
  {
   "cell_type": "code",
   "execution_count": null,
   "metadata": {},
   "outputs": [],
   "source": [
    "chi2_selector = SelectKBest(chi2, k=10)\n",
    "chi2_selector.fit(X, y)\n",
    "chi2_scores = pd.Series(chi2_selector.scores_, index=X.columns)\n",
    "chi2_scores.sort_values(ascending=False).plot(kind='bar', figsize=(12, 6))\n",
    "plt.title('Feature Importance using Chi-Squared Test')\n",
    "plt.show()"
   ]
  },
  {
   "cell_type": "code",
   "execution_count": null,
   "metadata": {},
   "outputs": [],
   "source": [
    "model = RandomForestClassifier()\n",
    "rfe = RFE(estimator=model, n_features_to_select=10)\n",
    "rfe.fit(X, y)\n",
    "feature_ranking = pd.Series(rfe.ranking_, index=X.columns)\n",
    "feature_ranking.sort_values().plot(kind='bar', figsize=(12, 6))\n",
    "plt.title('Feature Importance using RFE')\n",
    "plt.show()"
   ]
  },
  {
   "cell_type": "code",
   "execution_count": null,
   "metadata": {},
   "outputs": [],
   "source": [
    "lasso = Lasso(alpha=0.01)\n",
    "lasso.fit(X, y)\n",
    "lasso_coef = pd.Series(lasso.coef_, index=X.columns)\n",
    "lasso_coef[lasso_coef != 0].sort_values().plot(kind='barh', figsize=(12, 6))\n",
    "plt.title('Feature Importance using Lasso')\n",
    "plt.show()"
   ]
  },
  {
   "cell_type": "code",
   "execution_count": null,
   "metadata": {},
   "outputs": [],
   "source": [
    "scaler = StandardScaler()\n",
    "X_scaled = scaler.fit_transform(X)\n",
    "pca = PCA(n_components=10)\n",
    "X_pca = pca.fit_transform(X_scaled)\n",
    "\n",
    "plt.plot(range(1, len(pca.explained_variance_ratio_) + 1), pca.explained_variance_ratio_, marker='o')\n",
    "plt.title('Explained Variance by Principal Components')\n",
    "plt.xlabel('Number of Components')\n",
    "plt.ylabel('Variance Explained')\n",
    "plt.show()"
   ]
  },
  {
   "cell_type": "markdown",
   "metadata": {},
   "source": [
    "# Model Building"
   ]
  },
  {
   "cell_type": "code",
   "execution_count": 17,
   "metadata": {},
   "outputs": [],
   "source": [
    "X = df.drop(['SampleName','label'], axis=1)\n",
    "y = df['label']\n",
    "\n",
    "\n",
    "# standardising the data\n",
    "scaler = StandardScaler()\n",
    "X = scaler.fit_transform(X)"
   ]
  },
  {
   "cell_type": "code",
   "execution_count": 76,
   "metadata": {},
   "outputs": [],
   "source": [
    "# Splitting the dataset into training and testing sets\n",
    "X_train, X_test, y_train, y_test = train_test_split(X, y, test_size=0.2, random_state=42)"
   ]
  },
  {
   "cell_type": "markdown",
   "metadata": {},
   "source": [
    "# Logistic Regression"
   ]
  },
  {
   "cell_type": "code",
   "execution_count": 77,
   "metadata": {},
   "outputs": [],
   "source": [
    "model = LogisticRegression(max_iter=1000)\n",
    "model.fit(X_train, y_train)\n",
    "y_pred = model.predict(X_test)"
   ]
  },
  {
   "cell_type": "code",
   "execution_count": 79,
   "metadata": {},
   "outputs": [],
   "source": [
    "accuracy_lr = accuracy_score(y_test, y_pred)\n",
    "precision_lr = precision_score(y_test, y_pred)\n",
    "recall_lr = recall_score(y_test, y_pred)\n",
    "f1_lr = f1_score(y_test, y_pred)\n",
    "roc_auc_lr = roc_auc_score(y_test, y_pred)\n",
    "conf_matrix_lr = confusion_matrix(y_test, y_pred)"
   ]
  },
  {
   "cell_type": "code",
   "execution_count": 80,
   "metadata": {},
   "outputs": [
    {
     "name": "stdout",
     "output_type": "stream",
     "text": [
      "Accuracy: 0.8813241723922548\n",
      "Precision: 0.8773466833541927\n",
      "Recall: 0.8839848675914249\n",
      "F1 Score: 0.8806532663316582\n",
      "ROC AUC Score: 0.8813488694392767\n"
     ]
    }
   ],
   "source": [
    "print('Accuracy:', accuracy_lr)\n",
    "print('Precision:', precision_lr)\n",
    "print('Recall:', recall_lr)\n",
    "print('F1 Score:', f1_lr)\n",
    "print('ROC AUC Score:', roc_auc_lr)"
   ]
  },
  {
   "cell_type": "code",
   "execution_count": 81,
   "metadata": {},
   "outputs": [
    {
     "name": "stdout",
     "output_type": "stream",
     "text": [
      "              precision    recall  f1-score   support\n",
      "\n",
      "           0       0.89      0.88      0.88       808\n",
      "           1       0.88      0.88      0.88       793\n",
      "\n",
      "    accuracy                           0.88      1601\n",
      "   macro avg       0.88      0.88      0.88      1601\n",
      "weighted avg       0.88      0.88      0.88      1601\n",
      "\n"
     ]
    }
   ],
   "source": [
    "classificationReport_lr = classification_report(y_test, y_pred)\n",
    "print(classificationReport_lr)"
   ]
  },
  {
   "cell_type": "code",
   "execution_count": 82,
   "metadata": {},
   "outputs": [
    {
     "data": {
      "image/png": "[encoded data removed]",
      "text/plain": [
       "<Figure size 800x600 with 2 Axes>"
      ]
     },
     "metadata": {},
     "output_type": "display_data"
    }
   ],
   "source": [
    "plt.figure(figsize=(8, 6))\n",
    "sns.heatmap(conf_matrix_lr, annot=True, fmt='d', cmap='Blues')\n",
    "plt.xlabel('Predicted Labels')\n",
    "plt.ylabel('Actual Labels')\n",
    "plt.title('Confusion Matrix - Logistic Regression')\n",
    "plt.show()"
   ]
  },
  {
   "cell_type": "markdown",
   "metadata": {},
   "source": [
    "# SVM"
   ]
  },
  {
   "cell_type": "code",
   "execution_count": 83,
   "metadata": {},
   "outputs": [],
   "source": [
    "svm = SVC()\n",
    "svm.fit(X_train, y_train)\n",
    "y_pred = svm.predict(X_test)"
   ]
  },
  {
   "cell_type": "code",
   "execution_count": 84,
   "metadata": {},
   "outputs": [],
   "source": [
    "accuracy_svm = accuracy_score(y_test, y_pred)\n",
    "precision_svm = precision_score(y_test, y_pred)\n",
    "recall_svm = recall_score(y_test, y_pred)\n",
    "f1_svm = f1_score(y_test, y_pred)\n",
    "roc_auc_svm = roc_auc_score(y_test, y_pred)\n",
    "conf_matrix_svm = confusion_matrix(y_test, y_pred)"
   ]
  },
  {
   "cell_type": "code",
   "execution_count": 85,
   "metadata": {},
   "outputs": [
    {
     "name": "stdout",
     "output_type": "stream",
     "text": [
      "Accuracy: 0.8969394128669581\n",
      "Precision: 0.8738095238095238\n",
      "Recall: 0.9255989911727617\n",
      "F1 Score: 0.8989589712186161\n",
      "ROC AUC Score: 0.8972054361804402\n"
     ]
    }
   ],
   "source": [
    "print('Accuracy:', accuracy_svm)\n",
    "print('Precision:', precision_svm)\n",
    "print('Recall:', recall_svm)\n",
    "print('F1 Score:', f1_svm)\n",
    "print('ROC AUC Score:', roc_auc_svm)"
   ]
  },
  {
   "cell_type": "code",
   "execution_count": 86,
   "metadata": {},
   "outputs": [
    {
     "data": {
      "image/png": "[encoded data removed]",
      "text/plain": [
       "<Figure size 800x600 with 2 Axes>"
      ]
     },
     "metadata": {},
     "output_type": "display_data"
    }
   ],
   "source": [
    "plt.figure(figsize=(8, 6))\n",
    "sns.heatmap(conf_matrix_svm, annot=True, fmt='d', cmap='Blues')\n",
    "plt.xlabel('Predicted Labels')\n",
    "plt.ylabel('Actual Labels')\n",
    "plt.title('Confusion Matrix - SVM')\n",
    "plt.show()"
   ]
  },
  {
   "cell_type": "markdown",
   "metadata": {},
   "source": [
    "# KNN"
   ]
  },
  {
   "cell_type": "code",
   "execution_count": 87,
   "metadata": {},
   "outputs": [],
   "source": [
    "knn = KNeighborsClassifier()\n",
    "knn.fit(X_train, y_train)\n",
    "y_pred = knn.predict(X_test)"
   ]
  },
  {
   "cell_type": "code",
   "execution_count": 88,
   "metadata": {},
   "outputs": [],
   "source": [
    "accuracy_knn = accuracy_score(y_test, y_pred)\n",
    "precision_knn = precision_score(y_test, y_pred)\n",
    "recall_knn = recall_score(y_test, y_pred)\n",
    "f1_knn = f1_score(y_test, y_pred)\n",
    "roc_auc_knn = roc_auc_score(y_test, y_pred)\n",
    "conf_matrix_knn = confusion_matrix(y_test, y_pred)"
   ]
  },
  {
   "cell_type": "code",
   "execution_count": 89,
   "metadata": {},
   "outputs": [
    {
     "name": "stdout",
     "output_type": "stream",
     "text": [
      "Accuracy: 0.8169893816364772\n",
      "Precision: 0.7741228070175439\n",
      "Recall: 0.8902900378310215\n",
      "F1 Score: 0.8281524926686218\n",
      "ROC AUC Score: 0.8176697713907582\n"
     ]
    }
   ],
   "source": [
    "print('Accuracy:', accuracy_knn)\n",
    "print('Precision:', precision_knn)\n",
    "print('Recall:', recall_knn)\n",
    "print('F1 Score:', f1_knn)\n",
    "print('ROC AUC Score:', roc_auc_knn)"
   ]
  },
  {
   "cell_type": "code",
   "execution_count": 90,
   "metadata": {},
   "outputs": [
    {
     "data": {
      "image/png": "[encoded data removed]",
      "text/plain": [
       "<Figure size 800x600 with 2 Axes>"
      ]
     },
     "metadata": {},
     "output_type": "display_data"
    }
   ],
   "source": [
    "plt.figure(figsize=(8, 6))\n",
    "sns.heatmap(conf_matrix_knn, annot=True, fmt='d', cmap='Blues')\n",
    "plt.xlabel('Predicted Labels')\n",
    "plt.ylabel('Actual Labels')\n",
    "plt.title('Confusion Matrix - KNN')\n",
    "plt.show()"
   ]
  },
  {
   "cell_type": "markdown",
   "metadata": {},
   "source": [
    "# Naive Bayes"
   ]
  },
  {
   "cell_type": "code",
   "execution_count": 91,
   "metadata": {},
   "outputs": [],
   "source": [
    "nb = GaussianNB()\n",
    "nb.fit(X_train, y_train)\n",
    "y_pred = nb.predict(X_test)"
   ]
  },
  {
   "cell_type": "code",
   "execution_count": 92,
   "metadata": {},
   "outputs": [],
   "source": [
    "accuracy_nb = accuracy_score(y_test, y_pred)\n",
    "precision_nb = precision_score(y_test, y_pred)\n",
    "recall_nb = recall_score(y_test, y_pred)\n",
    "f1_nb = f1_score(y_test, y_pred)\n",
    "roc_auc_nb = roc_auc_score(y_test, y_pred)\n",
    "conf_matrix_nb = confusion_matrix(y_test, y_pred)"
   ]
  },
  {
   "cell_type": "code",
   "execution_count": 93,
   "metadata": {},
   "outputs": [
    {
     "name": "stdout",
     "output_type": "stream",
     "text": [
      "Accuracy: 0.7626483447845097\n",
      "Precision: 0.8143074581430746\n",
      "Recall: 0.6746532156368222\n",
      "F1 Score: 0.7379310344827588\n",
      "ROC AUC Score: 0.7618315583134607\n"
     ]
    }
   ],
   "source": [
    "print('Accuracy:', accuracy_nb)\n",
    "print('Precision:', precision_nb)\n",
    "print('Recall:', recall_nb)\n",
    "print('F1 Score:', f1_nb)\n",
    "print('ROC AUC Score:', roc_auc_nb)"
   ]
  },
  {
   "cell_type": "code",
   "execution_count": 94,
   "metadata": {},
   "outputs": [
    {
     "data": {
      "image/png": "[encoded data removed]",
      "text/plain": [
       "<Figure size 800x600 with 2 Axes>"
      ]
     },
     "metadata": {},
     "output_type": "display_data"
    }
   ],
   "source": [
    "plt.figure(figsize=(8, 6))\n",
    "sns.heatmap(conf_matrix_nb, annot=True, fmt='d', cmap='Blues')\n",
    "plt.xlabel('Predicted Labels')\n",
    "plt.ylabel('Actual Labels')\n",
    "plt.title('Confusion Matrix - Naive Bayes')\n",
    "plt.show()"
   ]
  },
  {
   "cell_type": "markdown",
   "metadata": {},
   "source": [
    "# Decision Tree"
   ]
  },
  {
   "cell_type": "code",
   "execution_count": 95,
   "metadata": {},
   "outputs": [],
   "source": [
    "dt = DecisionTreeClassifier()\n",
    "dt.fit(X_train, y_train)\n",
    "y_pred = dt.predict(X_test)"
   ]
  },
  {
   "cell_type": "code",
   "execution_count": 96,
   "metadata": {},
   "outputs": [],
   "source": [
    "accuracy_dt = accuracy_score(y_test, y_pred)\n",
    "precision_dt = precision_score(y_test, y_pred)\n",
    "recall_dt = recall_score(y_test, y_pred)\n",
    "f1_dt = f1_score(y_test, y_pred)\n",
    "roc_auc_dt = roc_auc_score(y_test, y_pred)\n",
    "conf_matrix_dt = confusion_matrix(y_test, y_pred)"
   ]
  },
  {
   "cell_type": "code",
   "execution_count": 97,
   "metadata": {},
   "outputs": [
    {
     "name": "stdout",
     "output_type": "stream",
     "text": [
      "Accuracy: 0.8363522798251093\n",
      "Precision: 0.8306351183063512\n",
      "Recall: 0.8411097099621689\n",
      "F1 Score: 0.8358395989974937\n",
      "ROC AUC Score: 0.8363964391395002\n"
     ]
    }
   ],
   "source": [
    "print('Accuracy:', accuracy_dt)\n",
    "print('Precision:', precision_dt)\n",
    "print('Recall:', recall_dt)\n",
    "print('F1 Score:', f1_dt)\n",
    "print('ROC AUC Score:', roc_auc_dt)"
   ]
  },
  {
   "cell_type": "code",
   "execution_count": 98,
   "metadata": {},
   "outputs": [
    {
     "data": {
      "image/png": "[encoded data removed]",
      "text/plain": [
       "<Figure size 800x600 with 2 Axes>"
      ]
     },
     "metadata": {},
     "output_type": "display_data"
    }
   ],
   "source": [
    "plt.figure(figsize=(8, 6))\n",
    "sns.heatmap(conf_matrix_dt, annot=True, fmt='d', cmap='Blues')\n",
    "plt.xlabel('Predicted Labels')\n",
    "plt.ylabel('Actual Labels')\n",
    "plt.title('Confusion Matrix - Decision Tree')\n",
    "plt.show()"
   ]
  },
  {
   "cell_type": "markdown",
   "metadata": {},
   "source": [
    "# Random Forest"
   ]
  },
  {
   "cell_type": "code",
   "execution_count": 99,
   "metadata": {},
   "outputs": [],
   "source": [
    "rf = RandomForestClassifier()\n",
    "rf.fit(X_train, y_train)\n",
    "y_pred = rf.predict(X_test)"
   ]
  },
  {
   "cell_type": "code",
   "execution_count": 100,
   "metadata": {},
   "outputs": [],
   "source": [
    "accuracy_rf = accuracy_score(y_test, y_pred)\n",
    "precision_rf = precision_score(y_test, y_pred)\n",
    "recall_rf = recall_score(y_test, y_pred)\n",
    "f1_rf = f1_score(y_test, y_pred)\n",
    "roc_auc_rf = roc_auc_score(y_test, y_pred)\n",
    "conf_matrix_rf = confusion_matrix(y_test, y_pred)"
   ]
  },
  {
   "cell_type": "code",
   "execution_count": 101,
   "metadata": {},
   "outputs": [
    {
     "name": "stdout",
     "output_type": "stream",
     "text": [
      "Accuracy: 0.8950655840099938\n",
      "Precision: 0.861271676300578\n",
      "Recall: 0.9394703656998739\n",
      "F1 Score: 0.8986731001206272\n",
      "ROC AUC Score: 0.8954777571073627\n"
     ]
    }
   ],
   "source": [
    "print('Accuracy:', accuracy_rf)\n",
    "print('Precision:', precision_rf)\n",
    "print('Recall:', recall_rf)\n",
    "print('F1 Score:', f1_rf)\n",
    "print('ROC AUC Score:', roc_auc_rf)"
   ]
  },
  {
   "cell_type": "code",
   "execution_count": 102,
   "metadata": {},
   "outputs": [
    {
     "data": {
      "image/png": "[encoded data removed]",
      "text/plain": [
       "<Figure size 800x600 with 2 Axes>"
      ]
     },
     "metadata": {},
     "output_type": "display_data"
    }
   ],
   "source": [
    "plt.figure(figsize=(8, 6))\n",
    "sns.heatmap(conf_matrix_rf, annot=True, fmt='d', cmap='Blues')\n",
    "plt.xlabel('Predicted Labels')\n",
    "plt.ylabel('Actual Labels')\n",
    "plt.title('Confusion Matrix - Random Forest')\n",
    "plt.show()"
   ]
  },
  {
   "cell_type": "markdown",
   "metadata": {},
   "source": [
    "# XGBoost"
   ]
  },
  {
   "cell_type": "code",
   "execution_count": 103,
   "metadata": {},
   "outputs": [],
   "source": [
    "xgb = XGBClassifier()\n",
    "xgb.fit(X_train, y_train)\n",
    "y_pred = xgb.predict(X_test)"
   ]
  },
  {
   "cell_type": "code",
   "execution_count": 104,
   "metadata": {},
   "outputs": [],
   "source": [
    "accuracy_xgb = accuracy_score(y_test, y_pred)\n",
    "precision_xgb = precision_score(y_test, y_pred)\n",
    "recall_xgb = recall_score(y_test, y_pred)\n",
    "f1_xgb = f1_score(y_test, y_pred)\n",
    "roc_auc_xgb = roc_auc_score(y_test, y_pred)\n",
    "conf_matrix_xgb = confusion_matrix(y_test, y_pred)"
   ]
  },
  {
   "cell_type": "code",
   "execution_count": 105,
   "metadata": {},
   "outputs": [
    {
     "name": "stdout",
     "output_type": "stream",
     "text": [
      "Accuracy: 0.9144284821986258\n",
      "Precision: 0.9\n",
      "Recall: 0.9306431273644389\n",
      "F1 Score: 0.9150650960942344\n",
      "ROC AUC Score: 0.9145789894247937\n"
     ]
    }
   ],
   "source": [
    "print('Accuracy:', accuracy_xgb)\n",
    "print('Precision:', precision_xgb)\n",
    "print('Recall:', recall_xgb)\n",
    "print('F1 Score:', f1_xgb)\n",
    "print('ROC AUC Score:', roc_auc_xgb)"
   ]
  },
  {
   "cell_type": "code",
   "execution_count": 106,
   "metadata": {},
   "outputs": [
    {
     "data": {
      "image/png": "[encoded data removed]",
      "text/plain": [
       "<Figure size 800x600 with 2 Axes>"
      ]
     },
     "metadata": {},
     "output_type": "display_data"
    }
   ],
   "source": [
    "plt.figure(figsize=(8, 6))\n",
    "sns.heatmap(conf_matrix_xgb, annot=True, fmt='d', cmap='Blues')\n",
    "plt.xlabel('Predicted Labels')\n",
    "plt.ylabel('Actual Labels')\n",
    "plt.title('Confusion Matrix - XGBoost')\n",
    "plt.show()"
   ]
  },
  {
   "cell_type": "markdown",
   "metadata": {},
   "source": [
    "# CatBoost"
   ]
  },
  {
   "cell_type": "code",
   "execution_count": 107,
   "metadata": {},
   "outputs": [],
   "source": [
    "cat = CatBoostClassifier(verbose=0)\n",
    "cat.fit(X_train, y_train)\n",
    "y_pred = cat.predict(X_test)"
   ]
  },
  {
   "cell_type": "code",
   "execution_count": 108,
   "metadata": {},
   "outputs": [],
   "source": [
    "accuracy_cat = accuracy_score(y_test, y_pred)\n",
    "precision_cat = precision_score(y_test, y_pred)\n",
    "recall_cat = recall_score(y_test, y_pred)\n",
    "f1_cat = f1_score(y_test, y_pred)\n",
    "roc_auc_cat = roc_auc_score(y_test, y_pred)\n",
    "conf_matrix_cat = confusion_matrix(y_test, y_pred)"
   ]
  },
  {
   "cell_type": "code",
   "execution_count": 109,
   "metadata": {},
   "outputs": [
    {
     "name": "stdout",
     "output_type": "stream",
     "text": [
      "Accuracy: 0.9106808244846971\n",
      "Precision: 0.892512077294686\n",
      "Recall: 0.9319041614123581\n",
      "F1 Score: 0.9117828500925353\n",
      "ROC AUC Score: 0.9108778232804364\n"
     ]
    }
   ],
   "source": [
    "print('Accuracy:', accuracy_cat)\n",
    "print('Precision:', precision_cat)\n",
    "print('Recall:', recall_cat)\n",
    "print('F1 Score:', f1_cat)\n",
    "print('ROC AUC Score:', roc_auc_cat)"
   ]
  },
  {
   "cell_type": "code",
   "execution_count": 110,
   "metadata": {},
   "outputs": [
    {
     "data": {
      "image/png": "[encoded data removed]",
      "text/plain": [
       "<Figure size 800x600 with 2 Axes>"
      ]
     },
     "metadata": {},
     "output_type": "display_data"
    }
   ],
   "source": [
    "plt.figure(figsize=(8, 6))\n",
    "sns.heatmap(conf_matrix_cat, annot=True, fmt='d', cmap='Blues')\n",
    "plt.xlabel('Predicted Labels')\n",
    "plt.ylabel('Actual Labels')\n",
    "plt.title('Confusion Matrix - CatBoost')\n",
    "plt.show()"
   ]
  },
  {
   "cell_type": "markdown",
   "metadata": {},
   "source": [
    "# Cross validation"
   ]
  },
  {
   "cell_type": "markdown",
   "metadata": {},
   "source": [
    "# Tables"
   ]
  }
 ],
 "metadata": {
  "kernelspec": {
   "display_name": "Python 3",
   "language": "python",
   "name": "python3"
  },
  "language_info": {
   "codemirror_mode": {
    "name": "ipython",
    "version": 3
   },
   "file_extension": ".py",
   "mimetype": "text/x-python",
   "name": "python",
   "nbconvert_exporter": "python",
   "pygments_lexer": "ipython3",
   "version": "3.9.19"
  }
 },
 "nbformat": 4,
 "nbformat_minor": 2
}
