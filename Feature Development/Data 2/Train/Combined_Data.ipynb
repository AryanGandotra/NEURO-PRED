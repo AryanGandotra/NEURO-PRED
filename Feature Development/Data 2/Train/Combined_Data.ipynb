{
 "cells": [
  {
   "cell_type": "code",
   "execution_count": 2,
   "metadata": {},
   "outputs": [
    {
     "name": "stdout",
     "output_type": "stream",
     "text": [
      "CSV files have been combined and saved as 'combined_output.csv'\n"
     ]
    }
   ],
   "source": [
    "import pandas as pd\n",
    "\n",
    "# List of CSV file paths\n",
    "csv_files = ['./Train_AAC.csv', './Train_ASDC_FINAL.csv', './Train_CTDD.csv', './Train_DPC_FINAL.csv']\n",
    "\n",
    "dfs = []\n",
    "\n",
    "for file in csv_files:\n",
    "    df = pd.read_csv(file)\n",
    "    dfs.append(df)\n",
    "\n",
    "combined_df = pd.merge(dfs[0], dfs[1], on=['SampleName', 'label'], how='outer')\n",
    "\n",
    "for df in dfs[2:]:\n",
    "    combined_df = pd.merge(combined_df, df, on=['SampleName', 'label'], how='outer')\n",
    "\n",
    "# Save the combined DataFrame to a new CSV file\n",
    "combined_df.to_csv('combined_data.csv', index=False)\n",
    "\n",
    "print(\"CSV files have been combined and saved as 'combined_output.csv'\")"
   ]
  }
 ],
 "metadata": {
  "kernelspec": {
   "display_name": "Python 3",
   "language": "python",
   "name": "python3"
  },
  "language_info": {
   "codemirror_mode": {
    "name": "ipython",
    "version": 3
   },
   "file_extension": ".py",
   "mimetype": "text/x-python",
   "name": "python",
   "nbconvert_exporter": "python",
   "pygments_lexer": "ipython3",
   "version": "3.9.undefined"
  }
 },
 "nbformat": 4,
 "nbformat_minor": 2
}
