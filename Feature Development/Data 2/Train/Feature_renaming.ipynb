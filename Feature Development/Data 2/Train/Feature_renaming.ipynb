{
 "cells": [
  {
   "cell_type": "code",
   "execution_count": 4,
   "metadata": {},
   "outputs": [],
   "source": [
    "import pandas as pd\n",
    "\n",
    "# Read the CSV file into a DataFrame\n",
    "df = pd.read_csv('./Train_ASDC.csv')\n",
    "\n",
    "df.columns = [col + '_ASDC' if col not in ['SampleName', 'label'] else col for col in df.columns]\n",
    "\n",
    "# Save the modified DataFrame back to a CSV file\n",
    "df.to_csv('Train_ASDC_FINAL.csv', index=False)"
   ]
  },
  {
   "cell_type": "code",
   "execution_count": 3,
   "metadata": {},
   "outputs": [],
   "source": [
    "import pandas as pd\n",
    "\n",
    "# Read the CSV file into a DataFrame\n",
    "df = pd.read_csv('./Train_DPC.csv')\n",
    "\n",
    "df.columns = [col + '_DPC' if col not in ['SampleName', 'label'] else col for col in df.columns]\n",
    "\n",
    "# Save the modified DataFrame back to a CSV file\n",
    "df.to_csv('Train_DPC_FINAL.csv', index=False)"
   ]
  }
 ],
 "metadata": {
  "kernelspec": {
   "display_name": "Python 3",
   "language": "python",
   "name": "python3"
  },
  "language_info": {
   "codemirror_mode": {
    "name": "ipython",
    "version": 3
   },
   "file_extension": ".py",
   "mimetype": "text/x-python",
   "name": "python",
   "nbconvert_exporter": "python",
   "pygments_lexer": "ipython3",
   "version": "3.9.19"
  }
 },
 "nbformat": 4,
 "nbformat_minor": 2
}
